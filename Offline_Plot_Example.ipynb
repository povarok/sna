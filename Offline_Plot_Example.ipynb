{
 "cells": [
  {
   "cell_type": "code",
   "execution_count": 8,
   "metadata": {},
   "outputs": [
    {
     "name": "stderr",
     "output_type": "stream",
     "text": [
      "C:\\Users\\sit76\\Anaconda3\\lib\\site-packages\\plotly\\offline\\offline.py:459: UserWarning:\n",
      "\n",
      "Your filename `name` didn't end with .html. Adding .html to the end of your file.\n",
      "\n"
     ]
    },
    {
     "data": {
      "text/plain": [
       "'file://C:\\\\Users\\\\sit76\\\\source\\\\repos\\\\sna\\\\name.html'"
      ]
     },
     "execution_count": 8,
     "metadata": {},
     "output_type": "execute_result"
    }
   ],
   "source": [
    "import plotly.plotly as py\n",
    "import plotly.graph_objs as go\n",
    "import plotly\n",
    "trace0 = go.Bar(\n",
    "    x=['Jan', 'Feb', 'Mar', 'Apr', 'May', 'Jun',\n",
    "       'Jul', 'Aug', 'Sep', 'Oct', 'Nov', 'Dec'],\n",
    "    y=[20, 14, 25, 16, 18, 22, 19, 15, 12, 16, 14, 17],\n",
    "    name='Primary Product',\n",
    "    marker=dict(\n",
    "        color='rgb(49,130,189)'\n",
    "    )\n",
    ")\n",
    "trace1 = go.Bar(\n",
    "    x=['Jan', 'Feb', 'Mar', 'Apr', 'May', 'Jun',\n",
    "       'Jul', 'Aug', 'Sep', 'Oct', 'Nov', 'Dec'],\n",
    "    y=[19, 14, 22, 14, 16, 19, 15, 14, 10, 12, 12, 16],\n",
    "    name='Secondary Product',\n",
    "    marker=dict(\n",
    "        color='rgb(204,204,204)',\n",
    "    )\n",
    ")\n",
    "\n",
    "data = [trace0, trace1]\n",
    "layout = go.Layout(\n",
    "    xaxis=dict(tickangle=-45),\n",
    "    barmode='group',\n",
    ")\n",
    "\n",
    "fig = go.Figure(data=data, layout=layout)\n",
    "plotly.offline.plot(fig, filename=\"name.html\")"
   ]
  },
  {
   "cell_type": "code",
   "execution_count": 2,
   "metadata": {},
   "outputs": [
    {
     "name": "stdout",
     "output_type": "stream",
     "text": [
      "CHECK YOUR DASHBOARD.html In the current directory\n"
     ]
    }
   ],
   "source": [
    "import plotly\n",
    "import plotly.offline as py\n",
    "import plotly.graph_objs as go\n",
    "fichier_html_graphs=open(\"DASHBOARD.html\",'w')\n",
    "fichier_html_graphs.write(\"<html><head></head><body>\"+\"\\n\")\n",
    "\n",
    "i=0\n",
    "while 1:\n",
    "    if i<=3:\n",
    "        i=i+1\n",
    "\n",
    "\n",
    "        #______________________________--Plotly--______________________________________\n",
    "\n",
    "\n",
    "        color1 = '#00bfff'\n",
    "        color2 = '#ff4000'\n",
    "\n",
    "        trace1 = go.Bar(\n",
    "            x = ['2017-09-25','2017-09-26','2017-09-27','2017-09-28','2017-09-29','2017-09-30','2017-10-01'],\n",
    "            y = [25,100,20,7,38,170,200],\n",
    "            name='Debit',\n",
    "            marker=dict(\n",
    "                color=color1\n",
    "            )\n",
    "\n",
    "        )\n",
    "        trace2 = go.Scatter(\n",
    "\n",
    "            x=['2017-09-25','2017-09-26','2017-09-27','2017-09-28','2017-09-29','2017-09-30','2017-10-01'],\n",
    "            y = [3,50,20,7,38,60,100],\n",
    "            name='Taux',\n",
    "            yaxis='y2'\n",
    "\n",
    "        )\n",
    "        data = [trace1, trace2]\n",
    "        layout = go.Layout(\n",
    "            title= ('Chart Number: '+str(i)),\n",
    "            titlefont=dict(\n",
    "            family='Courier New, monospace',\n",
    "            size=15,\n",
    "            color='#7f7f7f'\n",
    "            ),\n",
    "            paper_bgcolor='rgba(0,0,0,0)',\n",
    "            plot_bgcolor='rgba(0,0,0,0)',\n",
    "\n",
    "            yaxis=dict(\n",
    "                title='Bandwidth Mbit/s',\n",
    "                titlefont=dict(\n",
    "                    color=color1\n",
    "                ),\n",
    "                tickfont=dict(\n",
    "                    color=color1\n",
    "                )\n",
    "            ),\n",
    "            yaxis2=dict(\n",
    "                title='Ratio %',\n",
    "                overlaying='y',\n",
    "                side='right',\n",
    "                titlefont=dict(\n",
    "                    color=color2\n",
    "                ),\n",
    "                tickfont=dict(\n",
    "                    color=color2\n",
    "                )\n",
    "\n",
    "            )\n",
    "\n",
    "        )\n",
    "        fig = go.Figure(data=data, layout=layout)\n",
    "        plotly.offline.plot(fig, filename='Chart_'+str(i)+'.html',auto_open=False)\n",
    "        fichier_html_graphs.write(\"  <object data=\\\"\"+'Chart_'+str(i)+'.html'+\"\\\" width=\\\"650\\\" height=\\\"500\\\"></object>\"+\"\\n\")\n",
    "    else:\n",
    "        break\n",
    "\n",
    "\n",
    "fichier_html_graphs.write(\"</body></html>\")\n",
    "print(\"CHECK YOUR DASHBOARD.html In the current directory\")"
   ]
  },
  {
   "cell_type": "code",
   "execution_count": null,
   "metadata": {},
   "outputs": [],
   "source": []
  }
 ],
 "metadata": {
  "kernelspec": {
   "display_name": "Python 3",
   "language": "python",
   "name": "python3"
  },
  "language_info": {
   "codemirror_mode": {
    "name": "ipython",
    "version": 3
   },
   "file_extension": ".py",
   "mimetype": "text/x-python",
   "name": "python",
   "nbconvert_exporter": "python",
   "pygments_lexer": "ipython3",
   "version": "3.6.4"
  }
 },
 "nbformat": 4,
 "nbformat_minor": 2
}
